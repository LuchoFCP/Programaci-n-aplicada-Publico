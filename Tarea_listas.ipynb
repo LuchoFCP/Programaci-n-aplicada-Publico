{
  "nbformat": 4,
  "nbformat_minor": 0,
  "metadata": {
    "colab": {
      "provenance": [],
      "authorship_tag": "ABX9TyOckyj8eIJ9ymW8TXUyQtEd",
      "include_colab_link": true
    },
    "kernelspec": {
      "name": "python3",
      "display_name": "Python 3"
    },
    "language_info": {
      "name": "python"
    }
  },
  "cells": [
    {
      "cell_type": "markdown",
      "metadata": {
        "id": "view-in-github",
        "colab_type": "text"
      },
      "source": [
        "<a href=\"https://colab.research.google.com/github/LuchoFCP/Programaci-n-aplicada-Publico/blob/main/Tarea_listas.ipynb\" target=\"_parent\"><img src=\"https://colab.research.google.com/assets/colab-badge.svg\" alt=\"Open In Colab\"/></a>"
      ]
    },
    {
      "cell_type": "markdown",
      "source": [
        "# **Tarea Listas - Pogramación aplicada**\n",
        "Usando len, +, * Hacer lo mismo que txt.zfill(x), con X=10. \n",
        "A continuación se presenta el funcionamiento del método zfill.\n"
      ],
      "metadata": {
        "id": "8-ixadTFRXZJ"
      }
    },
    {
      "cell_type": "code",
      "source": [
        "txt = \"50\"\n",
        "\n",
        "x = txt.zfill(10)\n",
        "\n",
        "print(x)"
      ],
      "metadata": {
        "colab": {
          "base_uri": "https://localhost:8080/"
        },
        "id": "kPC4EyjER6Ui",
        "outputId": "e8d36e1b-80c8-4bff-ebeb-846882dc5840"
      },
      "execution_count": 1,
      "outputs": [
        {
          "output_type": "stream",
          "name": "stdout",
          "text": [
            "0000000050\n"
          ]
        }
      ]
    },
    {
      "cell_type": "markdown",
      "source": [
        "##Solución del ejercicio"
      ],
      "metadata": {
        "id": "zhYuUVJrSp7J"
      }
    },
    {
      "cell_type": "code",
      "source": [
        "# Asignamos una variable con el valor 10.\n",
        "x = \"10\"\n",
        "# Creamos otra variable que diga la canridad de caracteres de x (len).\n",
        "z = len(x)\n",
        "# Crear una variable que contenga los ceros.\n",
        "cero = \"0\"\n",
        "# Multiplicamos la variable cero por 10 y le restamos la varriable z y luego a todo eso sumamoos la variable x, \n",
        "# de forma que se añaden 8 ceros a la izquierda de de 10 y queda de 10 caracteres.\n",
        "cero*(10-z)+x  "
      ],
      "metadata": {
        "colab": {
          "base_uri": "https://localhost:8080/",
          "height": 36
        },
        "id": "oQgaeFliSot4",
        "outputId": "7eece96b-f3a9-40f8-b53c-78b491aef8b0"
      },
      "execution_count": 2,
      "outputs": [
        {
          "output_type": "execute_result",
          "data": {
            "text/plain": [
              "'0000000010'"
            ],
            "application/vnd.google.colaboratory.intrinsic+json": {
              "type": "string"
            }
          },
          "metadata": {},
          "execution_count": 2
        }
      ]
    }
  ]
}